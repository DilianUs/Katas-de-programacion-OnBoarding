{
 "cells": [
  {
   "cell_type": "markdown",
   "metadata": {},
   "source": [
    "# Modulo 5- Operaciones matematicas\n",
    "Autor:dilian Us"
   ]
  },
  {
   "cell_type": "markdown",
   "metadata": {},
   "source": [
    "Ejercicio 1"
   ]
  },
  {
   "cell_type": "code",
   "execution_count": 3,
   "metadata": {},
   "outputs": [
    {
     "name": "stdout",
     "output_type": "stream",
     "text": [
      "Ingrese la distancia del primer planeta:\n",
      "Ingrese la distancia del segundo planeta:\n",
      "Distancia en km: 628949330.0\n",
      "Distancia en millas: 39057753.393\n"
     ]
    }
   ],
   "source": [
    "print(\"Ingrese la distancia del primer planeta:\")\n",
    "p_planeta = input(\"Distancia en km del primer planeta\")\n",
    "print(\"Ingrese la distancia del segundo planeta:\")\n",
    "s_planeta = input(\"Distancia en km del segundo planeta\")\n",
    "\n",
    "#first_planet = 149597870\n",
    "#second_planet = 778547200\n",
    "\n",
    "distancia= float(s_planeta)-float(p_planeta)\n",
    "print(\"Distancia en km: \" + str(distancia))\n",
    "\n",
    "distancia_m=distancia*.0621\n",
    "print(\"Distancia en millas: \" + str(distancia_m))"
   ]
  },
  {
   "cell_type": "markdown",
   "metadata": {},
   "source": [
    "Ejercicio 2"
   ]
  },
  {
   "cell_type": "code",
   "execution_count": 1,
   "metadata": {},
   "outputs": [
    {
     "name": "stdout",
     "output_type": "stream",
     "text": [
      "Ingrese la distancia del sol del primer planeta:\n",
      "Ingrese la distancia del sol del segundo planeta:\n",
      "Distancia en km: 11\n",
      "Distancia en millas: 0.6831\n"
     ]
    }
   ],
   "source": [
    "print(\"Ingrese la distancia del sol del primer planeta:\")\n",
    "p_planeta = input(\"Distancia en km del primer planeta\")\n",
    "print(\"Ingrese la distancia del sol del segundo planeta:\")\n",
    "s_planeta = input(\"Distancia en km del segundo planeta\")\n",
    "\n",
    "\n",
    "distancia= int(s_planeta)-int(p_planeta)\n",
    "print(\"Distancia en km: \" + str(distancia))\n",
    "\n",
    "distancia_m=distancia*.0621\n",
    "print(\"Distancia en millas: \" + str(distancia_m))"
   ]
  }
 ],
 "metadata": {
  "interpreter": {
   "hash": "a03266276a3e8bbd053c2133b37a6aa99702260aea093ce3a77c6da36ca37067"
  },
  "kernelspec": {
   "display_name": "Python 3.10.2 64-bit",
   "language": "python",
   "name": "python3"
  },
  "language_info": {
   "codemirror_mode": {
    "name": "ipython",
    "version": 3
   },
   "file_extension": ".py",
   "mimetype": "text/x-python",
   "name": "python",
   "nbconvert_exporter": "python",
   "pygments_lexer": "ipython3",
   "version": "3.10.2"
  },
  "orig_nbformat": 4
 },
 "nbformat": 4,
 "nbformat_minor": 2
}
