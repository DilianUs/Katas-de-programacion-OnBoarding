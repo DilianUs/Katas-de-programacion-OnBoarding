{
 "cells": [
  {
   "cell_type": "markdown",
   "metadata": {},
   "source": [
    "# Modulo 3-Logica booleana\n",
    "Autor: Dilian Us"
   ]
  },
  {
   "cell_type": "code",
   "execution_count": 2,
   "metadata": {},
   "outputs": [
    {
     "name": "stdout",
     "output_type": "stream",
     "text": [
      "55\n"
     ]
    }
   ],
   "source": [
    "# Tip de práctica 1: Intenta ejecutarlo en un notebook.\n",
    "a = 54\n",
    "b = 55\n",
    "# test expression / expresión de prueba\n",
    "if a < b:\n",
    "    # statement to be run / instrucción a ejecutar\n",
    "    print(b)"
   ]
  },
  {
   "cell_type": "markdown",
   "metadata": {},
   "source": [
    "Ejercicios\n",
    "\n",
    "problema 1"
   ]
  },
  {
   "cell_type": "code",
   "execution_count": 3,
   "metadata": {},
   "outputs": [
    {
     "name": "stdout",
     "output_type": "stream",
     "text": [
      "Sistema de deteccion de asteroides potencialmente peligrosos\n",
      "¡ALERTA!Un asteroide se acerca demasiado rapido a la tierra.\n"
     ]
    }
   ],
   "source": [
    "print(\"Sistema de deteccion de asteroides potencialmente peligrosos\")\n",
    "asteroide_v = 49\n",
    "if asteroide_v>25:\n",
    "    print(\"¡ALERTA!Un asteroide se acerca demasiado rapido a la tierra.\")\n",
    "elif asteroide_v==25:\n",
    "    print(\"Se ah detectado que un asteroide se acerca a la tierra con una velocidad cerca de limite de peligro, se sugiere monitoreo.\")\n",
    "else:\n",
    "    print(\"Veloidad de asteroide no riesgosa\")\n",
    "    print(\"Continue monitoreando\")\n",
    "\n"
   ]
  },
  {
   "cell_type": "markdown",
   "metadata": {},
   "source": [
    "Variante con interaccion del usuario\n"
   ]
  },
  {
   "cell_type": "code",
   "execution_count": 7,
   "metadata": {},
   "outputs": [
    {
     "name": "stdout",
     "output_type": "stream",
     "text": [
      "Sistema de deteccion de asteroides potencialmente peligrosos\n",
      "Ingrese la velocidad del asteroide: \n",
      "¡ALERTA!Un asteroide se acerca demasiado rapido a la tierra.\n"
     ]
    }
   ],
   "source": [
    "print(\"Sistema de deteccion de asteroides potencialmente peligrosos\")\n",
    "print(\"Ingrese la velocidad del asteroide: \")\n",
    "\n",
    "asteroide_v = input(\"Velocidad de asteroide\")\n",
    "vel = int(asteroide_v)\n",
    "if vel>25:\n",
    "    print(\"¡ALERTA!Un asteroide se acerca demasiado rapido a la tierra.\")\n",
    "elif vel==25:\n",
    "    print(\"Se ah detectado que un asteroide se acerca a la tierra con una velocidad cerca de limite de peligro, se sugiere monitoreo.\")\n",
    "else:\n",
    "    print(\"Veloidad de asteroide no riesgosa\")\n",
    "    print(\"Continue monitoreando\")"
   ]
  },
  {
   "cell_type": "markdown",
   "metadata": {},
   "source": [
    "Ejercicio 2"
   ]
  },
  {
   "cell_type": "code",
   "execution_count": 8,
   "metadata": {},
   "outputs": [
    {
     "name": "stdout",
     "output_type": "stream",
     "text": [
      "No se podran generar luces en el cielo\n"
     ]
    }
   ],
   "source": [
    "asteroide_v = 19\n",
    "if asteroide_v>20:\n",
    "    print(\"¡Aviso! Se podra ver un rayo de luz en el cielo \\n Disfrute el espectaculo\")\n",
    "elif asteroide_v==20:\n",
    "    print(\"¡Aviso! Se podra ver un rayo de luz en el cielo \\n Disfrute el espectaculo\")    \n",
    "else:\n",
    "    print(\"No se podran generar luces en el cielo\")    "
   ]
  },
  {
   "cell_type": "markdown",
   "metadata": {},
   "source": [
    "Ejercicio 3"
   ]
  },
  {
   "cell_type": "code",
   "execution_count": 10,
   "metadata": {},
   "outputs": [
    {
     "name": "stdout",
     "output_type": "stream",
     "text": [
      "¡Sistema de prevencion contra asteroides!\n",
      "No hay eventos\n"
     ]
    }
   ],
   "source": [
    "print(\"¡Sistema de prevencion contra asteroides!\")\n",
    "ast_v = input(\"Velocidad del asteroide: \\n\")\n",
    "ast_t = input(\"Tamaño de asteroide: \\n\")\n",
    "\n",
    "vel= int(ast_v)\n",
    "tam= int(ast_t)\n",
    "\n",
    "if vel>25 and tam>25:\n",
    "    print(\"¡ALERTA! UN ASTEROIDE MUY PELIGROSO SE ACERCA A LA TIERRA A GRAN VELOCIDAD\")\n",
    "elif vel>25 or tam>25:\n",
    "    print(\"¡ALERTA! UN ASTEROIDE POTENCIALMENTE PELIGROSO SE ACERCA A LA TIERRA A GRAN VELOCIDAD\")\n",
    "elif vel>= 20 and vel <=25:\n",
    "    print(\"¡AVISO! Posible espectaculo de luces en el cielo\")\n",
    "elif vel < 20 and tam<25:\n",
    "    print(\"No hay eventos\")\n",
    "else:\n",
    "    print(\"No hay eventos\")"
   ]
  }
 ],
 "metadata": {
  "interpreter": {
   "hash": "a03266276a3e8bbd053c2133b37a6aa99702260aea093ce3a77c6da36ca37067"
  },
  "kernelspec": {
   "display_name": "Python 3.10.2 64-bit",
   "language": "python",
   "name": "python3"
  },
  "language_info": {
   "codemirror_mode": {
    "name": "ipython",
    "version": 3
   },
   "file_extension": ".py",
   "mimetype": "text/x-python",
   "name": "python",
   "nbconvert_exporter": "python",
   "pygments_lexer": "ipython3",
   "version": "3.10.2"
  },
  "orig_nbformat": 4
 },
 "nbformat": 4,
 "nbformat_minor": 2
}
