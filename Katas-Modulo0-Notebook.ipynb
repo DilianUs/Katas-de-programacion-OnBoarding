{
 "cells": [
  {
   "cell_type": "markdown",
   "metadata": {},
   "source": [
    "# Ejercicio: crea y ejecuta tu notebook\n",
     "# Manual de la Nave \n"
    "\n",
    "Primero instalamos la biblioteca:"
   ]
  },
{
  "cell_type": "code, 
  "execution_count": null,
  "metadata": {},
  "outputs": [],
  "source":[
     "pip install ipywidgets"  
]
}
