# Ejercicio 1: crea y ejecuta tu notebook
# Manual de la Nave \n
"Instalamos la biblioteca"

{
  "cell_type": "code, 
  "execution_count": null,
  "metadata": {},
  "outputs": [],
  "source":[
     "pip install ipywidgets"  
]
}
