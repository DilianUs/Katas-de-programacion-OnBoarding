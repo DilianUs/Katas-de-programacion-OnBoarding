{
 "cells": [
  {
   "cell_type": "markdown",
   "metadata": {},
   "source": [
    "# Modulo 9- Funciones\n",
    "Autor: Dilian Us"
   ]
  },
  {
   "cell_type": "markdown",
   "metadata": {},
   "source": [
    "Ejercicio 1"
   ]
  },
  {
   "cell_type": "code",
   "execution_count": 8,
   "metadata": {},
   "outputs": [
    {
     "name": "stdout",
     "output_type": "stream",
     "text": [
      "Reporte de combustible:\n",
      "    Promedio total: 68.33333333333333%\n",
      "    Tanque 1: 50%\n",
      "    Tanque 2: 75%\n",
      "    Tanque 3: 80%\n",
      "    \n",
      "68.33333333333333\n",
      "Reporte de combustible:\n",
      "    Promedio total: 68.33333333333333%\n",
      "    Tanque 1: 50%\n",
      "    Tanque 2: 75%\n",
      "    Tanque 3: 80%\n",
      "    \n"
     ]
    }
   ],
   "source": [
    "def tanques_comb(C1_tanque, C2_tanque, C3_tanque):\n",
    "    promedio_total=(C1_tanque + C2_tanque + C3_tanque)/3\n",
    "\n",
    "    return f\"\"\"Reporte de combustible:\n",
    "    Promedio total: {promedio_total}%\n",
    "    Tanque 1: {C1_tanque}%\n",
    "    Tanque 2: {C2_tanque}%\n",
    "    Tanque 3: {C3_tanque}%\n",
    "    \"\"\"\n",
    "print(tanques_comb(50,75,80))\n",
    "\n",
    "def promedio(valores_combustible):\n",
    "    SumaC_final = sum(valores_combustible)\n",
    "    total_tanques = len(valores_combustible)\n",
    "    return SumaC_final/total_tanques\n",
    "\n",
    "prueba= promedio([50,75,80]) \n",
    "print(prueba)\n",
    "\n",
    "def reporte_final (C1_tanque, C2_tanque, C3_tanque):\n",
    "    return f\"\"\"Reporte de combustible:\n",
    "    Promedio total: {promedio([C1_tanque, C2_tanque, C3_tanque])}%\n",
    "    Tanque 1: {C1_tanque}%\n",
    "    Tanque 2: {C2_tanque}%\n",
    "    Tanque 3: {C3_tanque}%\n",
    "    \"\"\"\n",
    "\n",
    "print(reporte_final(50,75,80))    "
   ]
  },
  {
   "cell_type": "markdown",
   "metadata": {},
   "source": [
    "Ejercicio 2"
   ]
  },
  {
   "cell_type": "code",
   "execution_count": 16,
   "metadata": {},
   "outputs": [
    {
     "name": "stdout",
     "output_type": "stream",
     "text": [
      "\n",
      "    Destino de la mision : Marte\n",
      "    Tiempo de despeque: 10 min\n",
      "    Tiempo de viaje: 76 min \n",
      "    Tiempo total de vuelo: 86 min\n",
      "    Combustible del cohete: 80%\n",
      "    Combustible para saltos espaciales: 90%\n",
      "    \n",
      "\n",
      "    Destino de la mision : Marte\n",
      "    Tiempo de despeque: 10 min\n",
      "    Tiempo de viaje: 76 min \n",
      "    Tiempo total de vuelo: 86 min\n",
      "    Total de litros de combustible:450000\n",
      "    Tanque de combustible = 400000 litros \n",
      "Tanque de liquido_antimateria = 50000 litros \n",
      "\n"
     ]
    }
   ],
   "source": [
    "def informe_mision(destino, tiempo_despeque, tiempo_viaje, combustible_cohete, combustible_salto_interestelar):\n",
    "    return f\"\"\"\n",
    "    Destino de la mision : {destino}\n",
    "    Tiempo de despeque: {tiempo_despeque} min\n",
    "    Tiempo de viaje: {tiempo_viaje} min \n",
    "    Tiempo total de vuelo: {tiempo_viaje + tiempo_despeque} min\n",
    "    Combustible del cohete: {combustible_cohete}%\n",
    "    Combustible para saltos espaciales: {combustible_salto_interestelar}%\n",
    "    \"\"\"\n",
    "\n",
    "print(informe_mision(\"Marte\", 10, 76, 80, 90))  \n",
    "\n",
    "#Para tanque de combustible adicionales utilizamos una variable extendible en combustibles\n",
    "\n",
    "def informe_mision(destino, tiempo_despeque, tiempo_viaje, **tanques_combustible):\n",
    "    reporte= f\"\"\"\n",
    "    Destino de la mision : {destino}\n",
    "    Tiempo de despeque: {tiempo_despeque} min\n",
    "    Tiempo de viaje: {tiempo_viaje} min \n",
    "    Tiempo total de vuelo: {tiempo_viaje + tiempo_despeque} min\n",
    "    Total de litros de combustible:{sum(tanques_combustible.values())}\n",
    "    \"\"\"\n",
    "    for nombre_tanque, litros in tanques_combustible.items():\n",
    "        reporte += f\"Tanque de {nombre_tanque} = {litros} litros \\n\"\n",
    "    return reporte    \n",
    "\n",
    "\n",
    "print(informe_mision(\"Marte\", 10, 76, combustible = 400000, liquido_antimateria=50000)) \n",
    "\n",
    "\n",
    "\n"
   ]
  }
 ],
 "metadata": {
  "interpreter": {
   "hash": "a03266276a3e8bbd053c2133b37a6aa99702260aea093ce3a77c6da36ca37067"
  },
  "kernelspec": {
   "display_name": "Python 3.10.2 64-bit",
   "language": "python",
   "name": "python3"
  },
  "language_info": {
   "codemirror_mode": {
    "name": "ipython",
    "version": 3
   },
   "file_extension": ".py",
   "mimetype": "text/x-python",
   "name": "python",
   "nbconvert_exporter": "python",
   "pygments_lexer": "ipython3",
   "version": "3.10.2"
  },
  "orig_nbformat": 4
 },
 "nbformat": 4,
 "nbformat_minor": 2
}
