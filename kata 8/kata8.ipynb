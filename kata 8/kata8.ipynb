{
 "cells": [
  {
   "cell_type": "markdown",
   "metadata": {},
   "source": [
    "# Modulo 8-Administrar datos con diccionarios\n",
    "Autor:Dilian Us"
   ]
  },
  {
   "cell_type": "markdown",
   "metadata": {},
   "source": [
    "Ejercicio 1"
   ]
  },
  {
   "cell_type": "code",
   "execution_count": 5,
   "metadata": {},
   "outputs": [
    {
     "name": "stdout",
     "output_type": "stream",
     "text": [
      "Mars tiene 2 lunas\n",
      "Mars tiene un circunferencia polar de 6752\n"
     ]
    }
   ],
   "source": [
    "planet = { \"name\":\"Mars\",\n",
    "          \"moons\":2  \n",
    "}\n",
    "print(str(planet[\"name\"]) + \" tiene \" + str(planet[\"moons\"]) + \" lunas\")\n",
    "\n",
    "planet[\"circumference\"]={\n",
    "    \"polar\": 6752,\n",
    "    \"equatorial\": 6792\n",
    "}\n",
    "\n",
    "print(str(planet[\"name\"]) + \" tiene un circunferencia polar de \" + str(planet[\"circumference\"][\"polar\"]))"
   ]
  },
  {
   "cell_type": "markdown",
   "metadata": {},
   "source": [
    "Ejercicio 2"
   ]
  },
  {
   "cell_type": "code",
   "execution_count": 10,
   "metadata": {},
   "outputs": [
    {
     "name": "stdout",
     "output_type": "stream",
     "text": [
      "dict_values([0, 0, 1, 2, 79, 82, 27, 14, 5, 2, 1, 1])\n",
      "12\n",
      "214\n",
      "17.833333333333332\n"
     ]
    }
   ],
   "source": [
    "planet_moons = {\n",
    "    'mercury': 0,\n",
    "    'venus': 0,\n",
    "    'earth': 1,\n",
    "    'mars': 2,\n",
    "    'jupiter': 79,\n",
    "    'saturn': 82,\n",
    "    'uranus': 27,\n",
    "    'neptune': 14,\n",
    "    'pluto': 5,\n",
    "    'haumea': 2,\n",
    "    'makemake': 1,\n",
    "    'eris': 1\n",
    "}\n",
    "\n",
    "moons = planet_moons.values() #Esto muestra los valores de la lunas\n",
    "print(moons) \n",
    " #Usamos las keys para el numero de planetas\n",
    "planets = len(planet_moons.keys())\n",
    "print(planets) \n",
    "\n",
    "#Para calcular el numero totald e lunas utilizamos un ciclo para sumarlos\n",
    "t_moons=0\n",
    "for moon in moons:\n",
    "    t_moons = t_moons + moon\n",
    "\n",
    "print(t_moons)\n",
    "#Con el for in aseguramos que cada una de las lunas se sumaran\n",
    " \n",
    "#promedio de lunas\n",
    "promedio_moons = t_moons/planets\n",
    "\n",
    "print(promedio_moons)\n"
   ]
  }
 ],
 "metadata": {
  "interpreter": {
   "hash": "a03266276a3e8bbd053c2133b37a6aa99702260aea093ce3a77c6da36ca37067"
  },
  "kernelspec": {
   "display_name": "Python 3.10.2 64-bit",
   "language": "python",
   "name": "python3"
  },
  "language_info": {
   "codemirror_mode": {
    "name": "ipython",
    "version": 3
   },
   "file_extension": ".py",
   "mimetype": "text/x-python",
   "name": "python",
   "nbconvert_exporter": "python",
   "pygments_lexer": "ipython3",
   "version": "3.10.2"
  },
  "orig_nbformat": 4
 },
 "nbformat": 4,
 "nbformat_minor": 2
}
