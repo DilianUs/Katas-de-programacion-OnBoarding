{
 "cells": [
  {
   "cell_type": "markdown",
   "metadata": {},
   "source": [
    "# Modulo 6- Listas\n",
    "Autor: Dilian Us"
   ]
  },
  {
   "cell_type": "markdown",
   "metadata": {},
   "source": [
    "Ejercicio 1"
   ]
  },
  {
   "cell_type": "code",
   "execution_count": 9,
   "metadata": {},
   "outputs": [
    {
     "name": "stdout",
     "output_type": "stream",
     "text": [
      "Hay 7 En el sistema solar.\n",
      "['Mercurio', 'Venus', 'Tierra', 'Marte', 'Jupiter', 'Saturno', 'Neptuno']\n",
      "Ahora hay 8 En el sistema solar.\n",
      "['Mercurio', 'Venus', 'Tierra', 'Marte', 'Jupiter', 'Saturno', 'Neptuno', 'Pluton']\n"
     ]
    }
   ],
   "source": [
    "planetas = [\"Mercurio\",\"Venus\",\"Tierra\",\"Marte\",\"Jupiter\",\"Saturno\",\"Neptuno\"]\n",
    "\n",
    "numero_de_planetas=len(planetas)\n",
    "\n",
    "print(\"Hay \" + str(numero_de_planetas) + \" En el sistema solar.\")\n",
    "print(planetas)\n",
    "\n",
    "planetas.append(\"Pluton\")\n",
    "numero_de_planetas=len(planetas)\n",
    "print(\"Ahora hay \" + str(numero_de_planetas) + \" En el sistema solar.\")\n",
    "print(planetas)\n"
   ]
  },
  {
   "cell_type": "markdown",
   "metadata": {},
   "source": [
    "Ejercicio 2"
   ]
  },
  {
   "cell_type": "code",
   "execution_count": 10,
   "metadata": {},
   "outputs": [
    {
     "name": "stdout",
     "output_type": "stream",
     "text": [
      "Estos son algunos planetas mas cercanos al sol que Jupiter\n",
      "['Mercurio', 'Venus', 'Tierra', 'Marte']\n",
      "Estos son algunos planetas mas lejanos al sol que Jupiter\n",
      "['Saturno', 'Neptuno']\n"
     ]
    }
   ],
   "source": [
    "planetas = [\"Mercurio\",\"Venus\",\"Tierra\",\"Marte\",\"Jupiter\",\"Saturno\",\"Neptuno\"]\n",
    "\n",
    "ing_planeta= input(\"Escriba el nombre del planeta(Es necesario utilizar mayuscula al inicio)\")\n",
    "\n",
    "busqueda_planeta = planetas.index(ing_planeta)\n",
    "\n",
    "print(\"Estos son algunos planetas mas cercanos al sol que \" + ing_planeta)\n",
    "print(planetas[0:busqueda_planeta])\n",
    "print(\"Estos son algunos planetas mas lejanos al sol que \" + ing_planeta)\n",
    "print(planetas[busqueda_planeta+1:])\n"
   ]
  }
 ],
 "metadata": {
  "interpreter": {
   "hash": "a03266276a3e8bbd053c2133b37a6aa99702260aea093ce3a77c6da36ca37067"
  },
  "kernelspec": {
   "display_name": "Python 3.10.2 64-bit",
   "language": "python",
   "name": "python3"
  },
  "language_info": {
   "codemirror_mode": {
    "name": "ipython",
    "version": 3
   },
   "file_extension": ".py",
   "mimetype": "text/x-python",
   "name": "python",
   "nbconvert_exporter": "python",
   "pygments_lexer": "ipython3",
   "version": "3.10.2"
  },
  "orig_nbformat": 4
 },
 "nbformat": 4,
 "nbformat_minor": 2
}
